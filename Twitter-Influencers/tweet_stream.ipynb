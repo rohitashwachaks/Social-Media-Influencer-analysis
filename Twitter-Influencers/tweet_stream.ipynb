{
 "cells": [
  {
   "cell_type": "code",
   "execution_count": 1,
   "metadata": {},
   "outputs": [],
   "source": [
    "import json\n",
    "\n",
    "from tweetScraper import *"
   ]
  },
  {
   "cell_type": "code",
   "execution_count": 2,
   "metadata": {},
   "outputs": [],
   "source": [
    "# from tweetStructure import Col_Indexes\n",
    "# col_indexes = [\"created_at\",\n",
    "#                \"id_str\", \"user_id\",\n",
    "#                \"is_quote_status\",\n",
    "#                \"text\", \"verified\", \n",
    "#                \"likes\", \"retweet_count\",\n",
    "#                \"location\",\"json\"\n",
    "#               ]\n",
    "# col_indexes = [\"json\"]\n",
    "\n",
    "# t = Col_Indexes(col_names= col_indexes)\n",
    "# print(t.aslist())"
   ]
  },
  {
   "cell_type": "markdown",
   "metadata": {},
   "source": [
    "# Scraping Live Tweets"
   ]
  },
  {
   "cell_type": "code",
   "execution_count": 3,
   "metadata": {},
   "outputs": [],
   "source": [
    "creds = json.load(open(\"credentials.json\", \"r\"))\n",
    "buffer_size = 5\n"
   ]
  },
  {
   "cell_type": "code",
   "execution_count": 4,
   "metadata": {},
   "outputs": [],
   "source": [
    "\n",
    "if __name__==\"__main__\":\n",
    "    topicList = ['Austin']\n",
    "    \n",
    "    tw_scraper = TweetScraper(twitterAppCredentials= creds,\n",
    "                            topicList= topicList,\n",
    "                            buffer_size= buffer_size,\n",
    "                            location= [\"US\"])"
   ]
  },
  {
   "cell_type": "code",
   "execution_count": 5,
   "metadata": {},
   "outputs": [
    {
     "name": "stdout",
     "output_type": "stream",
     "text": [
      "Beginning Stream for ['Austin']\n",
      "running True\n",
      "session <requests.sessions.Session object at 0x7f89200224f0>\n",
      "thread <Thread(Tweepy Stream, started 13125873664)>\n",
      "user_agent Python/3.9.7 Requests/2.27.1 Tweepy/4.5.0\n",
      "Received tweet\n",
      "Received tweet\n",
      "Received tweet\n",
      "Received tweet\n"
     ]
    },
    {
     "name": "stderr",
     "output_type": "stream",
     "text": [
      "Stream connection closed by Twitter\n"
     ]
    },
    {
     "name": "stdout",
     "output_type": "stream",
     "text": [
      "Received tweet\n"
     ]
    }
   ],
   "source": [
    "tw_scraper.Start()\n",
    "tw_scraper.Status()"
   ]
  },
  {
   "cell_type": "code",
   "execution_count": 6,
   "metadata": {},
   "outputs": [
    {
     "name": "stdout",
     "output_type": "stream",
     "text": [
      "<tweetFilter.TweetFilter object at 0x7f89608a7f40>\n",
      "Failed Tweets:\n",
      " []\n"
     ]
    },
    {
     "data": {
      "text/plain": [
       "'Initialised'"
      ]
     },
     "execution_count": 6,
     "metadata": {},
     "output_type": "execute_result"
    }
   ],
   "source": [
    "tw_scraper.GetDetails()"
   ]
  },
  {
   "cell_type": "code",
   "execution_count": 7,
   "metadata": {},
   "outputs": [
    {
     "name": "stdout",
     "output_type": "stream",
     "text": [
      "Deleting ['Austin']\n",
      "deleting Stream Listener\n"
     ]
    }
   ],
   "source": [
    "tw_scraper.End()\n",
    "del(tw_scraper)"
   ]
  },
  {
   "cell_type": "markdown",
   "metadata": {},
   "source": [
    "# Reading Tweets"
   ]
  },
  {
   "cell_type": "code",
   "execution_count": 11,
   "metadata": {},
   "outputs": [
    {
     "name": "stdout",
     "output_type": "stream",
     "text": [
      "Tweet 0:\n",
      "\t@WilliamRBR @RobbieBarstool This was an awesome example.  Love it and loved Austin’s mic work and ring promo presence\n",
      "Tweet 1:\n",
      "\tRT @espn: One decade ago today, Austin Rivers sunk this iconic buzzer-beater 🔥 \n",
      "\n",
      "A legendary edition of the @DukeMBB-North Carolina rivalry…\n",
      "Tweet 2:\n",
      "\tRT @richsignorelli: Why hasn't the @DeptofDefense &amp; Lloyd Austin taken steps to revoke the pension of Michael Flynn as he continues his mis…\n",
      "Tweet 3:\n",
      "\tRT @richsignorelli: Why hasn't the @DeptofDefense &amp; Lloyd Austin taken steps to revoke the pension of Michael Flynn as he continues his mis…\n",
      "Tweet 4:\n",
      "\tGood old RFL :\n"
     ]
    }
   ],
   "source": [
    "[print(f'Tweet {index}:\\n\\t{tw[\"text\"]}') for index, tw in enumerate(json.load(open('tweet.json','r')))];"
   ]
  },
  {
   "cell_type": "markdown",
   "metadata": {},
   "source": [
    "***"
   ]
  }
 ],
 "metadata": {
  "interpreter": {
   "hash": "fdcf710d948dd8950d5666e03b164b8bd4b5ad1b4ae6a3d57c94ba2e852816b8"
  },
  "kernelspec": {
   "display_name": "Python 3.9.7 ('network-analysis')",
   "language": "python",
   "name": "python3"
  },
  "language_info": {
   "codemirror_mode": {
    "name": "ipython",
    "version": 3
   },
   "file_extension": ".py",
   "mimetype": "text/x-python",
   "name": "python",
   "nbconvert_exporter": "python",
   "pygments_lexer": "ipython3",
   "version": "3.9.7"
  },
  "orig_nbformat": 4
 },
 "nbformat": 4,
 "nbformat_minor": 2
}
