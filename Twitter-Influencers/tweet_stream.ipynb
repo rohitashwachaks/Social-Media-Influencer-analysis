{
 "cells": [
  {
   "cell_type": "code",
   "execution_count": 1,
   "metadata": {},
   "outputs": [],
   "source": [
    "import json\n",
    "import pandas as pd\n",
    "import numpy as np\n",
    "\n",
    "from tweetScraper import *\n",
    "from tweetStructure import Col_Indexes\n"
   ]
  },
  {
   "cell_type": "code",
   "execution_count": 2,
   "metadata": {},
   "outputs": [],
   "source": [
    "# col_indexes = [\"created_at\",\n",
    "#                \"id_str\", \"user_id\",\n",
    "#                \"is_quote_status\",\n",
    "#                \"text\", \"verified\", \n",
    "#                \"likes\", \"retweet_count\",\n",
    "#                \"location\",\"json\"\n",
    "#               ]\n",
    "col_indexes = [\"json\"]"
   ]
  },
  {
   "cell_type": "code",
   "execution_count": 3,
   "metadata": {},
   "outputs": [
    {
     "name": "stdout",
     "output_type": "stream",
     "text": [
      "['json']\n"
     ]
    }
   ],
   "source": [
    "t = Col_Indexes(col_names= col_indexes)\n",
    "print(t.aslist())"
   ]
  },
  {
   "cell_type": "code",
   "execution_count": null,
   "metadata": {},
   "outputs": [],
   "source": [
    "twitterAppCredentials = json.load(open(\"credentials.json\", \"r\"))\n",
    "buffer_size = 5\n"
   ]
  },
  {
   "cell_type": "code",
   "execution_count": null,
   "metadata": {},
   "outputs": [],
   "source": [
    "\n",
    "if __name__==\"__main__\":\n",
    "    topicList = ['budget']\n",
    "    countryList = [\"IN\"]\n",
    "    countryScrape = {}\n",
    "    \n",
    "    for country in countryList:\n",
    "        countryScrape[country] = TweetScraper(twitterAppCredentials, topicList, country, buffer_size)\n",
    "        \n",
    "        print(\"\\n\")\n",
    "        \n",
    "        if(countryScrape[country] == False):\n",
    "            print(\"Discarding Instance for \"+country)\n",
    "            countryScrape.remove(country)\n",
    "        else:\n",
    "            print('Begin Streaming')\n",
    "            countryScrape[country].BeginStreaming()"
   ]
  },
  {
   "cell_type": "code",
   "execution_count": null,
   "metadata": {},
   "outputs": [],
   "source": [
    "print('running',countryScrape[countryList[0]].countryStream.running)\n",
    "print('session',countryScrape[countryList[0]].countryStream.session)\n",
    "print('thread',countryScrape[countryList[0]].countryStream.thread)\n",
    "print('user_agent',countryScrape[countryList[0]].countryStream.user_agent)"
   ]
  },
  {
   "cell_type": "code",
   "execution_count": null,
   "metadata": {},
   "outputs": [],
   "source": [
    "countryScrape[countryList[0]].GetDetails()\n",
    "countryScrape[countryList[0]].EndStreaming()\n",
    "del(countryScrape)"
   ]
  },
  {
   "cell_type": "code",
   "execution_count": null,
   "metadata": {},
   "outputs": [],
   "source": []
  }
 ],
 "metadata": {
  "interpreter": {
   "hash": "fdcf710d948dd8950d5666e03b164b8bd4b5ad1b4ae6a3d57c94ba2e852816b8"
  },
  "kernelspec": {
   "display_name": "Python 3.9.7 ('network-analysis')",
   "language": "python",
   "name": "python3"
  },
  "language_info": {
   "codemirror_mode": {
    "name": "ipython",
    "version": 3
   },
   "file_extension": ".py",
   "mimetype": "text/x-python",
   "name": "python",
   "nbconvert_exporter": "python",
   "pygments_lexer": "ipython3",
   "version": "3.9.7"
  },
  "orig_nbformat": 4
 },
 "nbformat": 4,
 "nbformat_minor": 2
}
