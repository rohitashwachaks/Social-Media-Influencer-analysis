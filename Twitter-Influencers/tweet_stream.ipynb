{
 "cells": [
  {
   "cell_type": "code",
   "execution_count": 1,
   "metadata": {},
   "outputs": [],
   "source": [
    "import json\n",
    "import pandas as pd\n",
    "import numpy as np\n",
    "\n",
    "from tweetScraper import *\n",
    "from tweetStructure import Col_Indexes\n"
   ]
  },
  {
   "cell_type": "code",
   "execution_count": 2,
   "metadata": {},
   "outputs": [],
   "source": [
    "# col_indexes = [\"created_at\",\n",
    "#                \"id_str\", \"user_id\",\n",
    "#                \"is_quote_status\",\n",
    "#                \"text\", \"verified\", \n",
    "#                \"likes\", \"retweet_count\",\n",
    "#                \"location\",\"json\"\n",
    "#               ]\n",
    "col_indexes = [\"json\"]"
   ]
  },
  {
   "cell_type": "code",
   "execution_count": 3,
   "metadata": {},
   "outputs": [
    {
     "name": "stdout",
     "output_type": "stream",
     "text": [
      "['json']\n"
     ]
    }
   ],
   "source": [
    "t = Col_Indexes(col_names= col_indexes)\n",
    "print(t.aslist())"
   ]
  },
  {
   "cell_type": "code",
   "execution_count": 4,
   "metadata": {},
   "outputs": [],
   "source": [
    "creds = json.load(open(\"credentials.json\", \"r\"))\n",
    "buffer_size = 5\n"
   ]
  },
  {
   "cell_type": "code",
   "execution_count": 13,
   "metadata": {},
   "outputs": [
    {
     "name": "stdout",
     "output_type": "stream",
     "text": [
      "Deleting ['Budget']\n",
      "deleting Stream Listener\n"
     ]
    }
   ],
   "source": [
    "\n",
    "if __name__==\"__main__\":\n",
    "    topicList = ['Budget2022']\n",
    "    \n",
    "    tw_scraper = TweetScraper(twitterAppCredentials= creds,\n",
    "                            topicList= topicList,\n",
    "                            buffer_size= buffer_size,\n",
    "                            location= [\"IN\"])"
   ]
  },
  {
   "cell_type": "code",
   "execution_count": 14,
   "metadata": {},
   "outputs": [
    {
     "name": "stdout",
     "output_type": "stream",
     "text": [
      "Beginning Stream for ['Budget2022']\n",
      "Received tweet\n",
      "Received tweet\n"
     ]
    }
   ],
   "source": [
    "tw_scraper.Start()"
   ]
  },
  {
   "cell_type": "code",
   "execution_count": 12,
   "metadata": {},
   "outputs": [
    {
     "name": "stdout",
     "output_type": "stream",
     "text": [
      "running False\n",
      "session <requests.sessions.Session object at 0x7fa5c058c1f0>\n",
      "thread <Thread(Tweepy Stream, stopped 13080915968)>\n",
      "user_agent Python/3.9.7 Requests/2.27.1 Tweepy/4.5.0\n"
     ]
    }
   ],
   "source": [
    "print('running',tw_scraper.stream.running)\n",
    "print('session',tw_scraper.stream.session)\n",
    "print('thread',tw_scraper.stream.thread)\n",
    "print('user_agent',tw_scraper.stream.user_agent)"
   ]
  },
  {
   "cell_type": "code",
   "execution_count": 10,
   "metadata": {},
   "outputs": [
    {
     "name": "stdout",
     "output_type": "stream",
     "text": [
      "<tweetFilter.TweetFilter object at 0x7fa5b1b49c70>\n",
      "Failed Tweets:\n",
      " []\n"
     ]
    },
    {
     "data": {
      "text/plain": [
       "'Initialised'"
      ]
     },
     "execution_count": 10,
     "metadata": {},
     "output_type": "execute_result"
    }
   ],
   "source": [
    "tw_scraper.GetDetails()\n",
    "# tw_scraper.End()\n",
    "# del(tw_scraper)"
   ]
  },
  {
   "cell_type": "code",
   "execution_count": null,
   "metadata": {},
   "outputs": [],
   "source": []
  }
 ],
 "metadata": {
  "interpreter": {
   "hash": "fdcf710d948dd8950d5666e03b164b8bd4b5ad1b4ae6a3d57c94ba2e852816b8"
  },
  "kernelspec": {
   "display_name": "Python 3.9.7 ('network-analysis')",
   "language": "python",
   "name": "python3"
  },
  "language_info": {
   "codemirror_mode": {
    "name": "ipython",
    "version": 3
   },
   "file_extension": ".py",
   "mimetype": "text/x-python",
   "name": "python",
   "nbconvert_exporter": "python",
   "pygments_lexer": "ipython3",
   "version": "3.9.7"
  },
  "orig_nbformat": 4
 },
 "nbformat": 4,
 "nbformat_minor": 2
}
