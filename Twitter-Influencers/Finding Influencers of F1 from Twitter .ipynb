{
 "cells": [
  {
   "cell_type": "code",
   "execution_count": 226,
   "metadata": {},
   "outputs": [],
   "source": [
    "import re, json, requests\n",
    "import pandas as pd\n",
    "import math"
   ]
  },
  {
   "cell_type": "code",
   "execution_count": 238,
   "metadata": {},
   "outputs": [],
   "source": [
    "url = 'https://raw.githubusercontent.com/rohitashwachaks/Social-Media-Influencer-analysis/main/Twitter-Influencers/F1_Database/f1_tweets.json'"
   ]
  },
  {
   "cell_type": "code",
   "execution_count": 239,
   "metadata": {},
   "outputs": [],
   "source": [
    "resp = requests.get(url)\n",
    "resp_parsed = re.sub(r'^jsonp\\d+\\(|\\)\\s+$', '', resp.text)\n",
    "data = json.loads(resp_parsed)"
   ]
  },
  {
   "cell_type": "code",
   "execution_count": 240,
   "metadata": {},
   "outputs": [],
   "source": [
    "data = pd.DataFrame(data)"
   ]
  },
  {
   "cell_type": "code",
   "execution_count": 243,
   "metadata": {},
   "outputs": [],
   "source": [
    "#creating list to store information\n",
    "user_provide = []\n",
    "user_receive = []\n",
    "attention_type = []"
   ]
  },
  {
   "cell_type": "code",
   "execution_count": 244,
   "metadata": {},
   "outputs": [],
   "source": [
    "for i in range(len(data)):\n",
    "    \n",
    "   #reply\n",
    "    if data.in_reply_to_screen_name[i] != None:\n",
    "        user_provide.append(data.user[i].get('screen_name'))\n",
    "        user_receive.append(data.in_reply_to_screen_name[i])\n",
    "        attention_type.append('reply')\n",
    "    \n",
    "    #retweet\n",
    "    if type(data.retweeted_status[i]) == dict:\n",
    "        user_provide.append(data.user[i].get('screen_name'))\n",
    "        user_receive.append(data.retweeted_status[i].get('user').get('screen_name'))\n",
    "        attention_type.append('RT')\n",
    "    \n",
    "    #mention\n",
    "    if len(data.entities[i].get('user_mentions'))!=0:\n",
    "        for j in range(len(data.entities[i].get('user_mentions'))):\n",
    "            user_provide.append(data.user[i].get('screen_name'))\n",
    "            user_receive.append(data.entities[i].get('user_mentions')[j].get('screen_name'))\n",
    "            attention_type.append('mention')\n",
    "        \n",
    "        "
   ]
  },
  {
   "cell_type": "code",
   "execution_count": 245,
   "metadata": {},
   "outputs": [],
   "source": [
    "#extract information from tweets \n",
    "network_data = pd.DataFrame({'user_provide':user_provide,'user_receive':user_receive,'attention_type':attention_type})\n"
   ]
  },
  {
   "cell_type": "code",
   "execution_count": null,
   "metadata": {},
   "outputs": [],
   "source": [
    "#Data Transformation for network visualization"
   ]
  },
  {
   "cell_type": "code",
   "execution_count": 329,
   "metadata": {},
   "outputs": [],
   "source": [
    "network_data = pd.DataFrame({'user_provide':user_provide,'user_receive':user_receive,'attention_type':attention_type})\n",
    "n = pd.DataFrame(network_data[['user_provide','user_receive','attention_type']].groupby(['user_provide','user_receive'])['attention_type'].agg('count'))\n",
    "n.to_csv('f1_network_links.csv')"
   ]
  },
  {
   "cell_type": "code",
   "execution_count": 331,
   "metadata": {},
   "outputs": [],
   "source": [
    "participants = {}\n",
    "for i in set(network_data.user_provide).union(set(network_data.user_receive)):\n",
    "    participants[i] = 1\n",
    "participants = pd.Series(participants)\n",
    "participants.to_csv('f1_network_participants.csv')"
   ]
  },
  {
   "cell_type": "code",
   "execution_count": 332,
   "metadata": {},
   "outputs": [],
   "source": [
    "n = pd.crosstab(network_data.user_provide, network_data.user_receive)\n",
    "idx = n.columns.union(n.index)\n",
    "n = n.reindex(index = idx, columns=idx, fill_value=0)\n",
    "n.to_csv('f1_network_adjacency.csv')"
   ]
  },
  {
   "cell_type": "code",
   "execution_count": null,
   "metadata": {},
   "outputs": [],
   "source": [
    "#Creating Network"
   ]
  },
  {
   "cell_type": "code",
   "execution_count": 247,
   "metadata": {},
   "outputs": [],
   "source": [
    "import networkx as nx \n",
    "import matplotlib.pyplot as plt"
   ]
  },
  {
   "cell_type": "code",
   "execution_count": 248,
   "metadata": {},
   "outputs": [],
   "source": [
    "G = nx.DiGraph(directed=True)"
   ]
  },
  {
   "cell_type": "code",
   "execution_count": 254,
   "metadata": {},
   "outputs": [],
   "source": [
    "G.add_nodes_from((network_data.user_provide+network_data.user_receive).unique())\n",
    "G.add_edges_from(tuple(zip(network_data.user_provide,network_data.user_receive)))"
   ]
  },
  {
   "cell_type": "code",
   "execution_count": null,
   "metadata": {},
   "outputs": [],
   "source": [
    "#Drawing Network\n",
    "nx.draw(G, with_labels=True)\n",
    "plt.show() "
   ]
  },
  {
   "cell_type": "code",
   "execution_count": null,
   "metadata": {},
   "outputs": [],
   "source": [
    "#insert the visualization? "
   ]
  },
  {
   "cell_type": "code",
   "execution_count": 258,
   "metadata": {},
   "outputs": [],
   "source": [
    "#Calculating network centralities\n",
    "degree = nx.degree_centrality(G)\n",
    "betweenness = nx.betweenness_centrality(G)\n",
    "closeness = nx.closeness_centrality(G)"
   ]
  },
  {
   "cell_type": "code",
   "execution_count": 298,
   "metadata": {},
   "outputs": [],
   "source": [
    "centrality = pd.DataFrame(degree,index=['degree']).T"
   ]
  },
  {
   "cell_type": "code",
   "execution_count": 333,
   "metadata": {},
   "outputs": [],
   "source": [
    "centrality['betweenness'] = pd.DataFrame(betweenness,index=['betweenness']).T.betweenness\n",
    "centrality['closeness'] = pd.DataFrame(closeness,index=['closeness']).T.closeness\n",
    "centrality = centrality.reset_index().rename(columns={'index':'name'})"
   ]
  },
  {
   "cell_type": "code",
   "execution_count": 305,
   "metadata": {},
   "outputs": [],
   "source": [
    "for i in range(len(centrality)):\n",
    "    centrality.loc[i,'sum'] = centrality.loc[i,'degree']+centrality.loc[i,'betweenness']+centrality.loc[i,'closeness']"
   ]
  },
  {
   "cell_type": "code",
   "execution_count": 314,
   "metadata": {},
   "outputs": [
    {
     "data": {
      "text/html": [
       "<div>\n",
       "<style scoped>\n",
       "    .dataframe tbody tr th:only-of-type {\n",
       "        vertical-align: middle;\n",
       "    }\n",
       "\n",
       "    .dataframe tbody tr th {\n",
       "        vertical-align: top;\n",
       "    }\n",
       "\n",
       "    .dataframe thead th {\n",
       "        text-align: right;\n",
       "    }\n",
       "</style>\n",
       "<table border=\"1\" class=\"dataframe\">\n",
       "  <thead>\n",
       "    <tr style=\"text-align: right;\">\n",
       "      <th></th>\n",
       "      <th>name</th>\n",
       "      <th>degree</th>\n",
       "      <th>betweenness</th>\n",
       "      <th>closeness</th>\n",
       "      <th>sum</th>\n",
       "    </tr>\n",
       "  </thead>\n",
       "  <tbody>\n",
       "    <tr>\n",
       "      <th>6988</th>\n",
       "      <td>F1</td>\n",
       "      <td>0.132978</td>\n",
       "      <td>0.000025</td>\n",
       "      <td>0.132510</td>\n",
       "      <td>0.265513</td>\n",
       "    </tr>\n",
       "    <tr>\n",
       "      <th>6995</th>\n",
       "      <td>redbullracing</td>\n",
       "      <td>0.074846</td>\n",
       "      <td>0.000000</td>\n",
       "      <td>0.072434</td>\n",
       "      <td>0.147280</td>\n",
       "    </tr>\n",
       "    <tr>\n",
       "      <th>6987</th>\n",
       "      <td>F1_Jordan</td>\n",
       "      <td>0.055744</td>\n",
       "      <td>0.000000</td>\n",
       "      <td>0.054802</td>\n",
       "      <td>0.110547</td>\n",
       "    </tr>\n",
       "    <tr>\n",
       "      <th>7223</th>\n",
       "      <td>McLarenF1</td>\n",
       "      <td>0.006061</td>\n",
       "      <td>0.000000</td>\n",
       "      <td>0.070166</td>\n",
       "      <td>0.076227</td>\n",
       "    </tr>\n",
       "    <tr>\n",
       "      <th>10261</th>\n",
       "      <td>lawrobarretto</td>\n",
       "      <td>0.003582</td>\n",
       "      <td>0.000000</td>\n",
       "      <td>0.068921</td>\n",
       "      <td>0.072502</td>\n",
       "    </tr>\n",
       "    <tr>\n",
       "      <th>6997</th>\n",
       "      <td>Max33Verstappen</td>\n",
       "      <td>0.034071</td>\n",
       "      <td>0.000000</td>\n",
       "      <td>0.032887</td>\n",
       "      <td>0.066958</td>\n",
       "    </tr>\n",
       "    <tr>\n",
       "      <th>7070</th>\n",
       "      <td>fia</td>\n",
       "      <td>0.014235</td>\n",
       "      <td>0.000000</td>\n",
       "      <td>0.017102</td>\n",
       "      <td>0.031337</td>\n",
       "    </tr>\n",
       "    <tr>\n",
       "      <th>9761</th>\n",
       "      <td>MrNickKnowles</td>\n",
       "      <td>0.009000</td>\n",
       "      <td>0.000002</td>\n",
       "      <td>0.011704</td>\n",
       "      <td>0.020706</td>\n",
       "    </tr>\n",
       "    <tr>\n",
       "      <th>7029</th>\n",
       "      <td>RobLMyers</td>\n",
       "      <td>0.007622</td>\n",
       "      <td>0.000004</td>\n",
       "      <td>0.007925</td>\n",
       "      <td>0.015552</td>\n",
       "    </tr>\n",
       "    <tr>\n",
       "      <th>7031</th>\n",
       "      <td>Independent</td>\n",
       "      <td>0.006245</td>\n",
       "      <td>0.000000</td>\n",
       "      <td>0.009257</td>\n",
       "      <td>0.015502</td>\n",
       "    </tr>\n",
       "  </tbody>\n",
       "</table>\n",
       "</div>"
      ],
      "text/plain": [
       "                  name    degree  betweenness  closeness       sum\n",
       "6988                F1  0.132978     0.000025   0.132510  0.265513\n",
       "6995     redbullracing  0.074846     0.000000   0.072434  0.147280\n",
       "6987         F1_Jordan  0.055744     0.000000   0.054802  0.110547\n",
       "7223         McLarenF1  0.006061     0.000000   0.070166  0.076227\n",
       "10261    lawrobarretto  0.003582     0.000000   0.068921  0.072502\n",
       "6997   Max33Verstappen  0.034071     0.000000   0.032887  0.066958\n",
       "7070               fia  0.014235     0.000000   0.017102  0.031337\n",
       "9761     MrNickKnowles  0.009000     0.000002   0.011704  0.020706\n",
       "7029         RobLMyers  0.007622     0.000004   0.007925  0.015552\n",
       "7031       Independent  0.006245     0.000000   0.009257  0.015502"
      ]
     },
     "execution_count": 314,
     "metadata": {},
     "output_type": "execute_result"
    }
   ],
   "source": [
    "#Top 10 most important user in the network based on sum of centralities\n",
    "centrality.sort_values('sum',ascending = False).head(10)"
   ]
  },
  {
   "cell_type": "code",
   "execution_count": null,
   "metadata": {},
   "outputs": [],
   "source": []
  }
 ],
 "metadata": {
  "kernelspec": {
   "display_name": "Python 3",
   "language": "python",
   "name": "python3"
  },
  "language_info": {
   "codemirror_mode": {
    "name": "ipython",
    "version": 3
   },
   "file_extension": ".py",
   "mimetype": "text/x-python",
   "name": "python",
   "nbconvert_exporter": "python",
   "pygments_lexer": "ipython3",
   "version": "3.7.6"
  }
 },
 "nbformat": 4,
 "nbformat_minor": 4
}
