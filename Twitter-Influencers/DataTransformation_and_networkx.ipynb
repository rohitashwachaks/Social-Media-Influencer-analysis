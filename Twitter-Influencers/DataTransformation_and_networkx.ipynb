{
 "cells": [
  {
   "cell_type": "code",
   "execution_count": 167,
   "metadata": {},
   "outputs": [],
   "source": [
    "import re, json, requests\n",
    "import pandas as pd\n",
    "import math"
   ]
  },
  {
   "cell_type": "code",
   "execution_count": 101,
   "metadata": {},
   "outputs": [],
   "source": [
    "url = 'https://raw.githubusercontent.com/rohitashwachaks/Social-Media-Influencer-analysis/main/Twitter-Influencers/tweet.json'"
   ]
  },
  {
   "cell_type": "code",
   "execution_count": 102,
   "metadata": {},
   "outputs": [],
   "source": [
    "resp = requests.get(url)\n",
    "resp_parsed = re.sub(r'^jsonp\\d+\\(|\\)\\s+$', '', resp.text)\n",
    "data = json.loads(resp_parsed)"
   ]
  },
  {
   "cell_type": "code",
   "execution_count": 103,
   "metadata": {},
   "outputs": [],
   "source": [
    "data = pd.DataFrame(data)"
   ]
  },
  {
   "cell_type": "code",
   "execution_count": 123,
   "metadata": {},
   "outputs": [
    {
     "data": {
      "text/plain": [
       "Index(['created_at', 'id', 'id_str', 'text', 'display_text_range', 'source',\n",
       "       'truncated', 'in_reply_to_status_id', 'in_reply_to_status_id_str',\n",
       "       'in_reply_to_user_id', 'in_reply_to_user_id_str',\n",
       "       'in_reply_to_screen_name', 'user', 'geo', 'coordinates', 'place',\n",
       "       'contributors', 'is_quote_status', 'quote_count', 'reply_count',\n",
       "       'retweet_count', 'favorite_count', 'entities', 'favorited', 'retweeted',\n",
       "       'filter_level', 'lang', 'timestamp_ms', 'retweeted_status',\n",
       "       'quoted_status_id', 'quoted_status_id_str', 'quoted_status',\n",
       "       'quoted_status_permalink'],\n",
       "      dtype='object')"
      ]
     },
     "execution_count": 123,
     "metadata": {},
     "output_type": "execute_result"
    }
   ],
   "source": [
    "data.columns"
   ]
  },
  {
   "cell_type": "code",
   "execution_count": 212,
   "metadata": {},
   "outputs": [],
   "source": [
    "data.in_reply_to_screen_name[3]"
   ]
  },
  {
   "cell_type": "code",
   "execution_count": 202,
   "metadata": {},
   "outputs": [
    {
     "data": {
      "text/plain": [
       "True"
      ]
     },
     "execution_count": 202,
     "metadata": {},
     "output_type": "execute_result"
    }
   ],
   "source": [
    "type(data.retweeted_status[1]) == dict"
   ]
  },
  {
   "cell_type": "code",
   "execution_count": 169,
   "metadata": {
    "scrolled": true
   },
   "outputs": [
    {
     "data": {
      "text/plain": [
       "'espn'"
      ]
     },
     "execution_count": 169,
     "metadata": {},
     "output_type": "execute_result"
    }
   ],
   "source": [
    "data.retweeted_status[1].get('user').get('screen_name')"
   ]
  },
  {
   "cell_type": "code",
   "execution_count": 183,
   "metadata": {},
   "outputs": [
    {
     "data": {
      "text/plain": [
       "'richsignorelli'"
      ]
     },
     "execution_count": 183,
     "metadata": {},
     "output_type": "execute_result"
    }
   ],
   "source": [
    "data.entities[3].get('user_mentions')[0].get('screen_name')"
   ]
  },
  {
   "cell_type": "code",
   "execution_count": 148,
   "metadata": {},
   "outputs": [
    {
     "data": {
      "text/plain": [
       "'KabalNeil'"
      ]
     },
     "execution_count": 148,
     "metadata": {},
     "output_type": "execute_result"
    }
   ],
   "source": [
    "data.user[1].get('screen_name')"
   ]
  },
  {
   "cell_type": "code",
   "execution_count": 203,
   "metadata": {},
   "outputs": [],
   "source": [
    "user_provide = []\n",
    "user_receive = []\n",
    "attention_type = []"
   ]
  },
  {
   "cell_type": "code",
   "execution_count": 204,
   "metadata": {},
   "outputs": [],
   "source": [
    "for i in range(len(data)):\n",
    "    \n",
    "   #reply\n",
    "    if data.in_reply_to_screen_name[i] != None:\n",
    "        user_provide.append(data.user[i].get('screen_name'))\n",
    "        user_receive.append(data.in_reply_to_screen_name[i])\n",
    "        attention_type.append('reply')\n",
    "    \n",
    "    #retweet\n",
    "    if type(data.retweeted_status[i]) == dict:\n",
    "        user_provide.append(data.user[i].get('screen_name'))\n",
    "        user_receive.append(data.retweeted_status[i].get('user').get('screen_name'))\n",
    "        attention_type.append('RT')\n",
    "    \n",
    "    #mention\n",
    "    if len(data.entities[i].get('user_mentions'))!=0:\n",
    "        for j in range(len(data.entities[i].get('user_mentions'))):\n",
    "            user_provide.append(data.user[i].get('screen_name'))\n",
    "            user_receive.append(data.entities[i].get('user_mentions')[j].get('screen_name'))\n",
    "            attention_type.append('mention')\n",
    "        \n",
    "        "
   ]
  },
  {
   "cell_type": "code",
   "execution_count": 207,
   "metadata": {},
   "outputs": [],
   "source": [
    "network_data = pd.DataFrame({'user_provide':user_provide,'user_receive':user_receive,'attention_type':attention_type})\n"
   ]
  },
  {
   "cell_type": "code",
   "execution_count": 208,
   "metadata": {},
   "outputs": [
    {
     "data": {
      "text/html": [
       "<div>\n",
       "<style scoped>\n",
       "    .dataframe tbody tr th:only-of-type {\n",
       "        vertical-align: middle;\n",
       "    }\n",
       "\n",
       "    .dataframe tbody tr th {\n",
       "        vertical-align: top;\n",
       "    }\n",
       "\n",
       "    .dataframe thead th {\n",
       "        text-align: right;\n",
       "    }\n",
       "</style>\n",
       "<table border=\"1\" class=\"dataframe\">\n",
       "  <thead>\n",
       "    <tr style=\"text-align: right;\">\n",
       "      <th></th>\n",
       "      <th>user_provide</th>\n",
       "      <th>user_receive</th>\n",
       "      <th>attention_type</th>\n",
       "    </tr>\n",
       "  </thead>\n",
       "  <tbody>\n",
       "    <tr>\n",
       "      <th>0</th>\n",
       "      <td>TheGunzShow</td>\n",
       "      <td>WilliamRBR</td>\n",
       "      <td>reply</td>\n",
       "    </tr>\n",
       "    <tr>\n",
       "      <th>1</th>\n",
       "      <td>TheGunzShow</td>\n",
       "      <td>WilliamRBR</td>\n",
       "      <td>mention</td>\n",
       "    </tr>\n",
       "    <tr>\n",
       "      <th>2</th>\n",
       "      <td>TheGunzShow</td>\n",
       "      <td>RobbieBarstool</td>\n",
       "      <td>mention</td>\n",
       "    </tr>\n",
       "    <tr>\n",
       "      <th>3</th>\n",
       "      <td>KabalNeil</td>\n",
       "      <td>espn</td>\n",
       "      <td>RT</td>\n",
       "    </tr>\n",
       "    <tr>\n",
       "      <th>4</th>\n",
       "      <td>KabalNeil</td>\n",
       "      <td>espn</td>\n",
       "      <td>mention</td>\n",
       "    </tr>\n",
       "    <tr>\n",
       "      <th>5</th>\n",
       "      <td>KabalNeil</td>\n",
       "      <td>DukeMBB</td>\n",
       "      <td>mention</td>\n",
       "    </tr>\n",
       "    <tr>\n",
       "      <th>6</th>\n",
       "      <td>ProgressiveGma</td>\n",
       "      <td>richsignorelli</td>\n",
       "      <td>RT</td>\n",
       "    </tr>\n",
       "    <tr>\n",
       "      <th>7</th>\n",
       "      <td>ProgressiveGma</td>\n",
       "      <td>richsignorelli</td>\n",
       "      <td>mention</td>\n",
       "    </tr>\n",
       "    <tr>\n",
       "      <th>8</th>\n",
       "      <td>ProgressiveGma</td>\n",
       "      <td>DeptofDefense</td>\n",
       "      <td>mention</td>\n",
       "    </tr>\n",
       "    <tr>\n",
       "      <th>9</th>\n",
       "      <td>JoAnneF95945936</td>\n",
       "      <td>richsignorelli</td>\n",
       "      <td>RT</td>\n",
       "    </tr>\n",
       "    <tr>\n",
       "      <th>10</th>\n",
       "      <td>JoAnneF95945936</td>\n",
       "      <td>richsignorelli</td>\n",
       "      <td>mention</td>\n",
       "    </tr>\n",
       "    <tr>\n",
       "      <th>11</th>\n",
       "      <td>JoAnneF95945936</td>\n",
       "      <td>DeptofDefense</td>\n",
       "      <td>mention</td>\n",
       "    </tr>\n",
       "  </tbody>\n",
       "</table>\n",
       "</div>"
      ],
      "text/plain": [
       "       user_provide    user_receive attention_type\n",
       "0       TheGunzShow      WilliamRBR          reply\n",
       "1       TheGunzShow      WilliamRBR        mention\n",
       "2       TheGunzShow  RobbieBarstool        mention\n",
       "3         KabalNeil            espn             RT\n",
       "4         KabalNeil            espn        mention\n",
       "5         KabalNeil         DukeMBB        mention\n",
       "6    ProgressiveGma  richsignorelli             RT\n",
       "7    ProgressiveGma  richsignorelli        mention\n",
       "8    ProgressiveGma   DeptofDefense        mention\n",
       "9   JoAnneF95945936  richsignorelli             RT\n",
       "10  JoAnneF95945936  richsignorelli        mention\n",
       "11  JoAnneF95945936   DeptofDefense        mention"
      ]
     },
     "execution_count": 208,
     "metadata": {},
     "output_type": "execute_result"
    }
   ],
   "source": [
    "network_data"
   ]
  },
  {
   "cell_type": "code",
   "execution_count": 216,
   "metadata": {},
   "outputs": [],
   "source": [
    "import networkx as nx \n",
    "import matplotlib.pyplot as plt"
   ]
  },
  {
   "cell_type": "code",
   "execution_count": 217,
   "metadata": {},
   "outputs": [],
   "source": [
    "G = nx.DiGraph(directed=True)"
   ]
  },
  {
   "cell_type": "code",
   "execution_count": 214,
   "metadata": {},
   "outputs": [
    {
     "data": {
      "text/plain": [
       "array(['TheGunzShowWilliamRBR', 'TheGunzShowRobbieBarstool',\n",
       "       'KabalNeilespn', 'KabalNeilDukeMBB',\n",
       "       'ProgressiveGmarichsignorelli', 'ProgressiveGmaDeptofDefense',\n",
       "       'JoAnneF95945936richsignorelli', 'JoAnneF95945936DeptofDefense'],\n",
       "      dtype=object)"
      ]
     },
     "execution_count": 214,
     "metadata": {},
     "output_type": "execute_result"
    }
   ],
   "source": [
    "(network_data.user_provide+network_data.user_receive).unique()"
   ]
  },
  {
   "cell_type": "code",
   "execution_count": 215,
   "metadata": {},
   "outputs": [
    {
     "data": {
      "text/plain": [
       "(('TheGunzShow', 'WilliamRBR'),\n",
       " ('TheGunzShow', 'WilliamRBR'),\n",
       " ('TheGunzShow', 'RobbieBarstool'),\n",
       " ('KabalNeil', 'espn'),\n",
       " ('KabalNeil', 'espn'),\n",
       " ('KabalNeil', 'DukeMBB'),\n",
       " ('ProgressiveGma', 'richsignorelli'),\n",
       " ('ProgressiveGma', 'richsignorelli'),\n",
       " ('ProgressiveGma', 'DeptofDefense'),\n",
       " ('JoAnneF95945936', 'richsignorelli'),\n",
       " ('JoAnneF95945936', 'richsignorelli'),\n",
       " ('JoAnneF95945936', 'DeptofDefense'))"
      ]
     },
     "execution_count": 215,
     "metadata": {},
     "output_type": "execute_result"
    }
   ],
   "source": [
    "tuple(zip(network_data.user_provide,network_data.user_receive))"
   ]
  },
  {
   "cell_type": "code",
   "execution_count": 218,
   "metadata": {},
   "outputs": [],
   "source": [
    "G.add_nodes_from((network_data.user_provide+network_data.user_receive).unique())\n",
    "G.add_edges_from(tuple(zip(network_data.user_provide,network_data.user_receive)))"
   ]
  },
  {
   "cell_type": "code",
   "execution_count": 220,
   "metadata": {},
   "outputs": [
    {
     "data": {
      "image/png": "[encoded data removed]",
      "text/plain": [
       "<Figure size 432x288 with 1 Axes>"
      ]
     },
     "metadata": {},
     "output_type": "display_data"
    }
   ],
   "source": [
    "nx.draw(G, with_labels=True)\n",
    "plt.show() "
   ]
  },
  {
   "cell_type": "code",
   "execution_count": 222,
   "metadata": {},
   "outputs": [
    {
     "data": {
      "text/plain": [
       "{'TheGunzShowWilliamRBR': 0.0,\n",
       " 'TheGunzShowRobbieBarstool': 0.0,\n",
       " 'KabalNeilespn': 0.0,\n",
       " 'KabalNeilDukeMBB': 0.0,\n",
       " 'ProgressiveGmarichsignorelli': 0.0,\n",
       " 'ProgressiveGmaDeptofDefense': 0.0,\n",
       " 'JoAnneF95945936richsignorelli': 0.0,\n",
       " 'JoAnneF95945936DeptofDefense': 0.0,\n",
       " 'TheGunzShow': 0.11764705882352941,\n",
       " 'WilliamRBR': 0.058823529411764705,\n",
       " 'RobbieBarstool': 0.058823529411764705,\n",
       " 'KabalNeil': 0.11764705882352941,\n",
       " 'espn': 0.058823529411764705,\n",
       " 'DukeMBB': 0.058823529411764705,\n",
       " 'ProgressiveGma': 0.11764705882352941,\n",
       " 'richsignorelli': 0.11764705882352941,\n",
       " 'DeptofDefense': 0.11764705882352941,\n",
       " 'JoAnneF95945936': 0.11764705882352941}"
      ]
     },
     "execution_count": 222,
     "metadata": {},
     "output_type": "execute_result"
    }
   ],
   "source": [
    "nx.degree_centrality(G)"
   ]
  },
  {
   "cell_type": "code",
   "execution_count": null,
   "metadata": {},
   "outputs": [],
   "source": []
  },
  {
   "cell_type": "code",
   "execution_count": null,
   "metadata": {},
   "outputs": [],
   "source": [
    "G.add_nodes_from(['A',\"B\",\"C\",\"D\",'E'])\n",
    "G.add_edges_from([('A','C'), ('B','D'), ('B','E'), ('C', 'E'),('A','E')])"
   ]
  },
  {
   "cell_type": "code",
   "execution_count": 54,
   "metadata": {},
   "outputs": [],
   "source": [
    "import networkx as nx \n",
    "import matplotlib.pyplot as plt"
   ]
  },
  {
   "cell_type": "code",
   "execution_count": 68,
   "metadata": {},
   "outputs": [],
   "source": [
    "G = nx.DiGraph(directed=True)"
   ]
  },
  {
   "cell_type": "code",
   "execution_count": 51,
   "metadata": {},
   "outputs": [
    {
     "name": "stdout",
     "output_type": "stream",
     "text": [
      "[]\n",
      "[]\n"
     ]
    }
   ],
   "source": [
    "print(G.nodes()) # returns a list\n",
    "print(G.edges()) # returns a list"
   ]
  },
  {
   "cell_type": "code",
   "execution_count": 69,
   "metadata": {},
   "outputs": [],
   "source": [
    "G.add_nodes_from(['A',\"B\",\"C\",\"D\",'E'])\n",
    "G.add_edges_from([('A','C'), ('B','D'), ('B','E'), ('C', 'E'),('A','E')])"
   ]
  },
  {
   "cell_type": "code",
   "execution_count": 70,
   "metadata": {},
   "outputs": [
    {
     "data": {
      "image/png": "[encoded data removed]",
      "text/plain": [
       "<Figure size 432x288 with 1 Axes>"
      ]
     },
     "metadata": {},
     "output_type": "display_data"
    }
   ],
   "source": [
    "nx.draw(G, with_labels=True, font_weight='bold')\n",
    "plt.show() "
   ]
  },
  {
   "cell_type": "code",
   "execution_count": 81,
   "metadata": {},
   "outputs": [
    {
     "data": {
      "text/plain": [
       "{'A': 0.0, 'B': 0.08333333333333333, 'C': 0.0, 'D': 0.0, 'E': 0.0}"
      ]
     },
     "execution_count": 81,
     "metadata": {},
     "output_type": "execute_result"
    }
   ],
   "source": [
    "nx.betweenness_centrality(G)"
   ]
  },
  {
   "cell_type": "code",
   "execution_count": 71,
   "metadata": {},
   "outputs": [],
   "source": [
    "E = [('A', 'B', 2), ('A', 'C', 1), ('B', 'D', 5), ('B', 'E', 3), ('C', 'E', 2)]\n",
    "G.add_weighted_edges_from(E)"
   ]
  },
  {
   "cell_type": "code",
   "execution_count": 72,
   "metadata": {},
   "outputs": [
    {
     "data": {
      "image/png": "[encoded data removed]",
      "text/plain": [
       "<Figure size 432x288 with 1 Axes>"
      ]
     },
     "metadata": {},
     "output_type": "display_data"
    }
   ],
   "source": [
    "pos=nx.spring_layout(G)\n",
    "nx.draw(G, pos, with_labels=True, font_weight='bold')\n",
    "edge_weight = nx.get_edge_attributes(G,'weight')\n",
    "nx.draw_networkx_edge_labels(G, pos, edge_labels = edge_weight)\n",
    "plt.show()"
   ]
  },
  {
   "cell_type": "code",
   "execution_count": null,
   "metadata": {},
   "outputs": [],
   "source": []
  }
 ],
 "metadata": {
  "kernelspec": {
   "display_name": "Python 3",
   "language": "python",
   "name": "python3"
  },
  "language_info": {
   "codemirror_mode": {
    "name": "ipython",
    "version": 3
   },
   "file_extension": ".py",
   "mimetype": "text/x-python",
   "name": "python",
   "nbconvert_exporter": "python",
   "pygments_lexer": "ipython3",
   "version": "3.7.6"
  }
 },
 "nbformat": 4,
 "nbformat_minor": 4
}
